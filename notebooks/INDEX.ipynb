{
 "cells": [
  {
   "cell_type": "markdown",
   "metadata": {},
   "source": [
    "The purpose of these notebooks is to demonstrate and justify a series of computational methods used to quantify cytoplasmic and membrane concentrations from midplane confocal images, as well as providing instructions on how to perform similar analysis. \n",
    "\n",
    "I would recommend going through the following notebooks in order:\n",
    "- [Notebook 1: Autofluorescence calibration and correction](./1_autofluorescence.ipynb)\n",
    "- [Notebook 2: Optical models of cytoplasmic and membrane protein](./2_models_of_membrane_and_cytoplasmic_protein.ipynb)\n",
    "- [Notebook 3: Performing quantification using a simple optical model](./3_simple_model_fitting.ipynb)\n",
    "- [Notebook 4: Training an adaptable model to improve accuracy of quantification](./4_custom_model.ipynb)\n",
    "- [Notebook 5: Instructions for performing analysis](./5_intro_to_imagequant.ipynb)\n",
    "\n",
    "\n",
    "I also provide several notebooks that demonstrate some control experiments using these methods:\n",
    "- [Control 1: Quantification of N2s](./control_n2_quantification.ipynb)\n",
    "- [Control 2: Robustness of the method to pixel noise](./control_response_to_noise.ipynb)\n",
    "- [Control 3: Inter-embryo reference profile variation](./control_profile_variation.ipynb)\n",
    "- [Control 4: Reference profile spatial variation](./control_profile_spatial_variation.ipynb)\n",
    "\n",
    "Additional notebooks:\n",
    "- [Appendix 1: Specifying ROIs and straightening algorithm](./appendix_rois_and_straightening.ipynb)"
   ]
  },
  {
   "cell_type": "code",
   "execution_count": null,
   "metadata": {},
   "outputs": [],
   "source": []
  }
 ],
 "metadata": {
  "kernelspec": {
   "display_name": "Python 3",
   "language": "python",
   "name": "python3"
  },
  "language_info": {
   "codemirror_mode": {
    "name": "ipython",
    "version": 3
   },
   "file_extension": ".py",
   "mimetype": "text/x-python",
   "name": "python",
   "nbconvert_exporter": "python",
   "pygments_lexer": "ipython3",
   "version": "3.7.9"
  }
 },
 "nbformat": 4,
 "nbformat_minor": 4
}
