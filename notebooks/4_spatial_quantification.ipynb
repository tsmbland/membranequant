{
 "cells": [
  {
   "cell_type": "markdown",
   "metadata": {
    "collapsed": true
   },
   "source": [
    "# Import packages"
   ]
  },
  {
   "cell_type": "code",
   "execution_count": 1,
   "metadata": {},
   "outputs": [],
   "source": [
    "import sys\n",
    "\n",
    "sys.path.append('..')\n",
    "\n",
    "import numpy as np\n",
    "import matplotlib.pyplot as plt"
   ]
  },
  {
   "cell_type": "markdown",
   "metadata": {},
   "source": [
    "# Load image"
   ]
  },
  {
   "cell_type": "code",
   "execution_count": 2,
   "metadata": {},
   "outputs": [
    {
     "ename": "NameError",
     "evalue": "name 'file_path' is not defined",
     "output_type": "error",
     "traceback": [
      "\u001b[0;31m---------------------------------------------------------------------------\u001b[0m",
      "\u001b[0;31mNameError\u001b[0m                                 Traceback (most recent call last)",
      "\u001b[0;32m<ipython-input-2-4853f61a33cb>\u001b[0m in \u001b[0;36m<module>\u001b[0;34m()\u001b[0m\n\u001b[1;32m      3\u001b[0m \u001b[0membryo_path\u001b[0m \u001b[0;34m=\u001b[0m \u001b[0;34m'../test_datasets/dataset2_par2_neon/00/'\u001b[0m\u001b[0;34m\u001b[0m\u001b[0;34m\u001b[0m\u001b[0m\n\u001b[1;32m      4\u001b[0m \u001b[0mimg_path\u001b[0m \u001b[0;34m=\u001b[0m \u001b[0membryo_path\u001b[0m \u001b[0;34m+\u001b[0m \u001b[0;34m'/af_corrected.tif'\u001b[0m\u001b[0;34m\u001b[0m\u001b[0;34m\u001b[0m\u001b[0m\n\u001b[0;32m----> 5\u001b[0;31m \u001b[0mimg\u001b[0m \u001b[0;34m=\u001b[0m \u001b[0mload_image\u001b[0m\u001b[0;34m(\u001b[0m\u001b[0mfile_path\u001b[0m\u001b[0;34m)\u001b[0m\u001b[0;34m\u001b[0m\u001b[0;34m\u001b[0m\u001b[0m\n\u001b[0m\u001b[1;32m      6\u001b[0m \u001b[0;34m\u001b[0m\u001b[0m\n\u001b[1;32m      7\u001b[0m \u001b[0mget_ipython\u001b[0m\u001b[0;34m(\u001b[0m\u001b[0;34m)\u001b[0m\u001b[0;34m.\u001b[0m\u001b[0mmagic\u001b[0m\u001b[0;34m(\u001b[0m\u001b[0;34m'matplotlib inline'\u001b[0m\u001b[0;34m)\u001b[0m\u001b[0;34m\u001b[0m\u001b[0;34m\u001b[0m\u001b[0m\n",
      "\u001b[0;31mNameError\u001b[0m: name 'file_path' is not defined"
     ]
    }
   ],
   "source": [
    "from membranequant.funcs import load_image\n",
    "\n",
    "embryo_path = '../test_datasets/dataset2_par2_neon/00/'\n",
    "img_path = embryo_path + '/af_corrected.tif'\n",
    "img = load_image(file_path)\n",
    "\n",
    "%matplotlib inline\n",
    "plt.imshow(img, cmap='gray')\n",
    "plt.gcf().set_size_inches(10,10)"
   ]
  },
  {
   "cell_type": "markdown",
   "metadata": {},
   "source": [
    "# Specify rough ROI\n",
    "\n",
    "This does not need to be precise, 4 points is usually enough. We will computationally refine the ROI later"
   ]
  },
  {
   "cell_type": "code",
   "execution_count": null,
   "metadata": {},
   "outputs": [],
   "source": [
    "from membranequant.roi import def_roi\n",
    "\n",
    "periodic = True\n",
    "\n",
    "# %matplotlib tk\n",
    "# roi = def_roi(img, spline=True, periodic=periodic)\n",
    "# print(roi.shape)\n",
    "\n",
    "roi = np.loadtxt(embryo_path + 'ROI.txt')"
   ]
  },
  {
   "cell_type": "code",
   "execution_count": null,
   "metadata": {},
   "outputs": [],
   "source": [
    "%matplotlib inline\n",
    "plt.imshow(img, cmap='gray')\n",
    "plt.plot(roi[:, 0], roi[:, 1], c='aqua')\n",
    "plt.scatter(roi[0, 0], roi[0, 1], c='aqua')\n",
    "plt.gcf().set_size_inches(10,10)"
   ]
  },
  {
   "cell_type": "markdown",
   "metadata": {},
   "source": [
    "# Quantify membrane concentrations around the cell"
   ]
  },
  {
   "cell_type": "markdown",
   "metadata": {},
   "source": [
    "### Straighten"
   ]
  },
  {
   "cell_type": "code",
   "execution_count": null,
   "metadata": {},
   "outputs": [],
   "source": [
    "from membranequant.funcs import straighten, rolling_ave_2d\n",
    "\n",
    "thickness = 50\n",
    "\n",
    "straight = straighten(img, roi=roi, thickness=thickness, interp='cubic')\n",
    "\n",
    "%matplotlib inline\n",
    "plt.imshow(straight, cmap='gray')\n",
    "plt.gcf().set_size_inches(15,15)"
   ]
  },
  {
   "cell_type": "markdown",
   "metadata": {},
   "source": [
    "### Preprocess straight image for fitting"
   ]
  },
  {
   "cell_type": "code",
   "execution_count": null,
   "metadata": {},
   "outputs": [],
   "source": [
    "rol_ave = 20\n",
    "\n",
    "\n",
    "def preprocess(straight, rol_ave=rol_ave, bg_subtract=bg_subtract):\n",
    "    # Smoothen\n",
    "    straight_filtered = rolling_ave_2d(straight, window=20, periodic=periodic)\n",
    "    \n",
    "    # Normalise\n",
    "    norm = np.max(straight_filtered)\n",
    "    target = straight_filtered / norm\n",
    "    \n",
    "    return target, norm\n",
    "\n",
    "target, norm = preprocess(straight)\n",
    "\n",
    "%matplotlib inline\n",
    "plt.imshow(target, cmap='gray')\n",
    "plt.gcf().set_size_inches(15,15)"
   ]
  },
  {
   "cell_type": "markdown",
   "metadata": {},
   "source": [
    "### Set up model\n",
    "\n",
    "Create differentiable model using tensorflow"
   ]
  },
  {
   "cell_type": "code",
   "execution_count": null,
   "metadata": {},
   "outputs": [],
   "source": [
    "import tensorflow as tf\n",
    "\n",
    "sigma = 2\n",
    "\n",
    "def sim_img(cyts, mems, offsets, sigma=sigma, thickness=thickness):\n",
    "    nfits = cyts.shape[0]\n",
    "\n",
    "    # Positions to evaluate mem and cyt curves\n",
    "    positions = tf.reshape(tf.reshape(tf.tile(np.arange(thickness, dtype=np.float64), [nfits]),\n",
    "                                      [nfits, thickness]) + tf.expand_dims(offsets, -1), [-1])\n",
    "\n",
    "    # Mem curve\n",
    "    mem_curve = tf.math.exp(-((positions - thickness / 2) ** 2) / (2 * sigma ** 2))\n",
    "    \n",
    "    # Cyt curve:\n",
    "    cyt_curve = (1 + tf.math.erf((positions - thickness / 2) / sigma)) / 2\n",
    "    \n",
    "    # Reshape\n",
    "    cyt_curve_ = tf.reshape(cyt_curve, [nfits, thickness])\n",
    "    mem_curve_ = tf.reshape(mem_curve, [nfits, thickness])\n",
    "\n",
    "    # Calculate output\n",
    "    mem_total = mem_curve_ * tf.expand_dims(mems, axis=-1)\n",
    "    cyt_total = cyt_curve_ * tf.expand_dims(cyts, axis=-1)\n",
    "    return tf.transpose(tf.math.add(mem_total, cyt_total))\n",
    "\n",
    "def loss_function(target_image, cyts, mems, offsets):\n",
    "    return tf.math.reduce_mean((sim_img(cyts, mems, offsets) - target_image) ** 2)"
   ]
  },
  {
   "cell_type": "markdown",
   "metadata": {},
   "source": [
    "### Initialise parameters\n",
    "\n",
    "Calculate a rough initial guess which will serve as the starting conditions for gradient descent optimisation"
   ]
  },
  {
   "cell_type": "code",
   "execution_count": null,
   "metadata": {},
   "outputs": [],
   "source": [
    "def init_params(target):\n",
    "    nfits = target.shape[1]\n",
    "    offsets = tf.Variable(np.zeros(nfits))\n",
    "    cyts = tf.Variable(np.mean(target[-5:, :], axis=0))\n",
    "    mems = tf.Variable(np.max(target, axis=0) - 0.5 * cyts)\n",
    "    return cyts, mems, offsets\n",
    "    \n",
    "%matplotlib inline\n",
    "plt.imshow(sim_img(*init_params(target)), cmap='gray')\n",
    "plt.gcf().set_size_inches(15,15)"
   ]
  },
  {
   "cell_type": "markdown",
   "metadata": {},
   "source": [
    "### Optimise parameters by gradient descent\n",
    "\n",
    "Perform gradient descent to optimise the cytoplasmic and membrane concentration parameters, and the offset parameters"
   ]
  },
  {
   "cell_type": "code",
   "execution_count": null,
   "metadata": {},
   "outputs": [],
   "source": [
    "lr = 0.01\n",
    "iterations = 2000\n",
    "\n",
    "def optimise(target, lr=lr, iterations=iterations):\n",
    "    \n",
    "    # Init parameters\n",
    "    cyts, mems, offsets = init_params(target)\n",
    "    \n",
    "    # Gradient descent\n",
    "    opt = tf.keras.optimizers.Adam(learning_rate=lr)\n",
    "    losses = np.zeros(iterations)\n",
    "    for i in range(iterations):   \n",
    "        with tf.GradientTape() as tape:\n",
    "            loss = loss_function(target, cyts, mems, offsets)\n",
    "            losses[i] = loss\n",
    "            var_list = [offsets, cyts, mems]\n",
    "            grads = tape.gradient(loss, var_list)\n",
    "            opt.apply_gradients(list(zip(grads, var_list)))\n",
    "        \n",
    "        # Plot fit\n",
    "        if (i + 1) % 200 == 0: \n",
    "            plt.imshow(sim_img(cyts, mems, offsets), cmap='gray')\n",
    "            plt.title('Iteration = ' + str(i + 1))\n",
    "            plt.gcf().set_size_inches(15,15)\n",
    "            plt.show()\n",
    "            \n",
    "    return cyts, mems, offsets, losses\n",
    "            \n",
    "%matplotlib inline\n",
    "cyts, mems, offsets, losses = optimise(target)"
   ]
  },
  {
   "cell_type": "code",
   "execution_count": null,
   "metadata": {},
   "outputs": [],
   "source": [
    "%matplotlib inline\n",
    "plt.plot(np.log10(losses))\n",
    "plt.xlabel('Iteration')\n",
    "plt.ylabel('Loss')\n",
    "plt.gcf().set_size_inches(15,10)"
   ]
  },
  {
   "cell_type": "markdown",
   "metadata": {},
   "source": [
    "# Results: membrane concentrations\n",
    "\n",
    "Must rescale concentrations by normalisation factor calculated earlier"
   ]
  },
  {
   "cell_type": "code",
   "execution_count": null,
   "metadata": {},
   "outputs": [],
   "source": [
    "% matplotlib inline\n",
    "plt.plot(cyts.numpy() * norm)\n",
    "plt.axhline(0, c='k', linestyle='--')\n",
    "plt.xlabel('Position')\n",
    "plt.ylabel('Membrane concentration (a.u.)')\n",
    "plt.gcf().set_size_inches(15,10)"
   ]
  },
  {
   "cell_type": "markdown",
   "metadata": {},
   "source": [
    "# Optional: Refine ROI\n",
    "\n",
    "Use fitted offset paramters to refine the ROI"
   ]
  },
  {
   "cell_type": "code",
   "execution_count": null,
   "metadata": {},
   "outputs": [],
   "source": [
    "plt.plot(offsets.numpy())\n",
    "plt.xlabel('Position')\n",
    "plt.ylabel('Offset')\n",
    "plt.gcf().set_size_inches(15,10)"
   ]
  },
  {
   "cell_type": "code",
   "execution_count": null,
   "metadata": {},
   "outputs": [],
   "source": [
    "from membranequant.funcs import offset_coordinates, spline_roi\n",
    "\n",
    "roi_new = offset_coordinates(roi, offsets)\n",
    "roi_new = spline_roi(roi=roi_new, periodic=periodic, s=100)\n",
    "\n",
    "%matplotlib inline\n",
    "plt.imshow(img, cmap='gray')\n",
    "plt.plot(roi[:, 0], roi[:, 1], c='r', label='Original ROI')\n",
    "plt.plot(roi_new[:, 0], roi_new[:, 1], c='aqua', label='New ROI')\n",
    "plt.legend()\n",
    "plt.gcf().set_size_inches(10,10)"
   ]
  },
  {
   "cell_type": "markdown",
   "metadata": {},
   "source": [
    "### Redo fitting with new ROI"
   ]
  },
  {
   "cell_type": "code",
   "execution_count": null,
   "metadata": {},
   "outputs": [],
   "source": [
    "straight_iteration2 = straighten(img, roi=roi_new, thickness=thickness, interp='cubic')\n",
    "target_iteration2, norm_iteration2 = preprocess(straight_iteration2)\n",
    "cyts_iteration2, mems_iteration2, offsets_iteration2, losses_iteration2 = optimise(target_iteration2)"
   ]
  },
  {
   "cell_type": "code",
   "execution_count": null,
   "metadata": {},
   "outputs": [],
   "source": [
    "%matplotlib inline\n",
    "plt.plot(np.log10(losses_iteration2))\n",
    "plt.xlabel('Iteration')\n",
    "plt.ylabel('Loss')\n",
    "plt.gcf().set_size_inches(15,10)"
   ]
  },
  {
   "cell_type": "code",
   "execution_count": null,
   "metadata": {},
   "outputs": [],
   "source": [
    "% matplotlib inline\n",
    "plt.plot(mems_iteration2.numpy() * norm_iteration2)\n",
    "plt.axhline(0, c='k', linestyle='--')\n",
    "plt.xlabel('Position')\n",
    "plt.ylabel('Membrane concentration (a.u.)')\n",
    "plt.gcf().set_size_inches(15,10)"
   ]
  },
  {
   "cell_type": "markdown",
   "metadata": {},
   "source": [
    "# ImageQuant class\n",
    "\n",
    "We can perform the above optimisation in a single line using the ImageQuant class"
   ]
  },
  {
   "cell_type": "markdown",
   "metadata": {},
   "source": [
    "### Set up class"
   ]
  },
  {
   "cell_type": "code",
   "execution_count": null,
   "metadata": {},
   "outputs": [],
   "source": [
    "from membranequant.quantification import ImageQuant\n",
    "\n",
    "iq = ImageQuant(img=img, roi=roi, sigma=sigma, thickness=thickness, periodic=periodic, rol_ave=rol_ave, iterations=2, lr=lr)"
   ]
  },
  {
   "cell_type": "markdown",
   "metadata": {},
   "source": [
    "### Perform optimisation"
   ]
  },
  {
   "cell_type": "code",
   "execution_count": null,
   "metadata": {},
   "outputs": [],
   "source": [
    "iq.run()"
   ]
  },
  {
   "cell_type": "markdown",
   "metadata": {},
   "source": [
    "### View quantification"
   ]
  },
  {
   "cell_type": "code",
   "execution_count": null,
   "metadata": {},
   "outputs": [],
   "source": [
    "%matplotlib inline\n",
    "plt.plot(iq.mems)\n",
    "plt.plot(mems_iteration2.numpy() * norm_iteration2)\n",
    "plt.xlabel('Position')\n",
    "plt.ylabel('Membrane concentration (a.u.)')\n",
    "plt.gcf().set_size_inches(15,10)"
   ]
  },
  {
   "cell_type": "markdown",
   "metadata": {},
   "source": [
    "### View segmentation"
   ]
  },
  {
   "cell_type": "code",
   "execution_count": null,
   "metadata": {},
   "outputs": [],
   "source": [
    "% matplotlib inline"
   ]
  },
  {
   "cell_type": "markdown",
   "metadata": {},
   "source": [
    "### Assess quality of fitting"
   ]
  },
  {
   "cell_type": "code",
   "execution_count": null,
   "metadata": {},
   "outputs": [],
   "source": [
    "% matplotlib tk"
   ]
  }
 ],
 "metadata": {
  "kernelspec": {
   "display_name": "Python 3",
   "language": "python",
   "name": "python3"
  },
  "language_info": {
   "codemirror_mode": {
    "name": "ipython",
    "version": 3
   },
   "file_extension": ".py",
   "mimetype": "text/x-python",
   "name": "python",
   "nbconvert_exporter": "python",
   "pygments_lexer": "ipython3",
   "version": "3.7.9"
  }
 },
 "nbformat": 4,
 "nbformat_minor": 1
}
